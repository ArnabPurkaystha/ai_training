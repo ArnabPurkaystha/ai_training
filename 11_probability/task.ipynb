{
 "cells": [
  {
   "cell_type": "markdown",
   "metadata": {},
   "source": [
    "## Import required libraries"
   ]
  },
  {
   "cell_type": "code",
   "execution_count": 1,
   "metadata": {},
   "outputs": [],
   "source": [
    "import numpy as np\n",
    "import pandas as pd\n",
    "import matplotlib.pyplot as plt\n",
    "import seaborn as sns\n",
    "import math"
   ]
  },
  {
   "cell_type": "markdown",
   "metadata": {},
   "source": [
    "## Question 1"
   ]
  },
  {
   "cell_type": "markdown",
   "metadata": {},
   "source": [
    "Simulate a Discrete Probability Distribution\n",
    "a. Write Python code to simulate a discrete random variable representing a die\n",
    "roll (numbers 1 through 6).\n",
    "b. Generate 10,000 random rolls of a fair die using NumPy.\n",
    "c. Plot the probability mass function (PMF) using a bar plot."
   ]
  },
  {
   "cell_type": "code",
   "execution_count": 11,
   "metadata": {},
   "outputs": [
    {
     "name": "stdout",
     "output_type": "stream",
     "text": [
      "Rolling a dice once: \n",
      "Answer = 2\n",
      "10000 random rolls: \n",
      "Answer = [4 4 1 ... 1 3 6]\n",
      "Plotting the probability mass function: \n",
      "            probability\n",
      "dice_value             \n",
      "1                0.1624\n",
      "2                0.1703\n",
      "3                0.1702\n",
      "4                0.1629\n",
      "5                0.1683\n",
      "6                0.1659\n"
     ]
    },
    {
     "data": {
      "image/png": "[encoded data removed]",
      "text/plain": [
       "<Figure size 640x480 with 1 Axes>"
      ]
     },
     "metadata": {},
     "output_type": "display_data"
    }
   ],
   "source": [
    "def roll_dice():\n",
    "    return np.random.randint(1, 7)\n",
    "\n",
    "def ten_thoushand_roll():\n",
    "    return np.random.randint(1,7,10000)\n",
    "\n",
    "def plot_pmf():\n",
    "    rolls = ten_thoushand_roll()\n",
    "    df=pd.DataFrame(data=rolls,columns=\"dice_value\".split())\n",
    "    #df=df.groupby('dice_value').size() \n",
    "    count_df=df.value_counts().sort_index().rename_axis(\"dice_value\").to_frame(\"probability\")\n",
    "    count_df[\"probability\"]=count_df[\"probability\"]/10000\n",
    "    print(count_df)\n",
    "    sns.barplot(x=\"dice_value\", y=\"probability\", data=count_df)\n",
    "    plt.title('Probability Mass Function of a Six-Sided Dice')\n",
    "    plt.grid(axis=\"y\",alpha=0.6)\n",
    "    plt.xlabel('Face Value')\n",
    "    plt.ylabel('Probability')\n",
    "    plt.show()\n",
    "\n",
    "def solve_1():\n",
    "    print(\"Rolling a dice once: \")\n",
    "    print(f\"Answer = {roll_dice()}\")\n",
    "    print(\"10000 random rolls: \")\n",
    "    print(f\"Answer = {ten_thoushand_roll()}\")\n",
    "    print(\"Plotting the probability mass function: \")\n",
    "    plot_pmf()\n",
    "\n",
    "solve_1()"
   ]
  },
  {
   "cell_type": "markdown",
   "metadata": {},
   "source": [
    "## Question 2"
   ]
  },
  {
   "cell_type": "markdown",
   "metadata": {},
   "source": [
    "Suppose that an examination consists of six true and false questions and assume\n",
    "that a student has no knowledge of the subject matter. The probability that the\n",
    "student will guess the correct answer to the first question is 30%. Likewise, the\n",
    "probability of guessing each of the remaining questions correctly is also 30%.\n",
    "a. What is the probability of getting exactly three correct answers?\n",
    "b. What is the probability of getting at least two correct answers?\n",
    "c. What is the probability of getting at most two correct answers?\n",
    "d. What is the probability of getting less than five correct answers?"
   ]
  },
  {
   "cell_type": "code",
   "execution_count": 12,
   "metadata": {},
   "outputs": [
    {
     "name": "stdout",
     "output_type": "stream",
     "text": [
      "a. What is the probability of getting exactly three correct answers?\n",
      "answer = 0.185220\n",
      "b. What is the probability of getting at least two correct answers?\n",
      " answer = 0.579825\n",
      "c. What is the probability of getting at most two correct answers?\n",
      "answer = 0.744310\n",
      "d. What is the probability of getting less than five correct answers?\n",
      "answer = 0.989065\n"
     ]
    }
   ],
   "source": [
    "def factorial(n):\n",
    "    factorials = [1] * (n + 1)\n",
    "    for i in range(2, n + 1):\n",
    "        factorials[i] = factorials[i - 1] * i\n",
    "    return factorials\n",
    "\n",
    "def bionomial_distribution(x,n,p):\n",
    "    factorials=factorial(n)\n",
    "    return factorials[n] / (factorials[x] * factorials[n-x]) * (p**x) * ((1-p)**(n-x))\n",
    "\n",
    "def solve_2():\n",
    "    p=0.3\n",
    "    n=6\n",
    "    print(\"a. What is the probability of getting exactly three correct answers?\")\n",
    "    answer_a=bionomial_distribution(3,n,p)\n",
    "    print(f\"answer = {answer_a:.6f}\")\n",
    "    print(\"b. What is the probability of getting at least two correct answers?\")\n",
    "    answer_b=1-(bionomial_distribution(0,n,p)+bionomial_distribution(1,n,p))\n",
    "    print(f\" answer = {answer_b:.6f}\")\n",
    "    print(\"c. What is the probability of getting at most two correct answers?\")\n",
    "    answer_c=(bionomial_distribution(0,n,p)+bionomial_distribution(1,n,p)+bionomial_distribution(2,n,p))\n",
    "    print(f\"answer = {answer_c:.6f}\")\n",
    "    print(\"d. What is the probability of getting less than five correct answers?\")\n",
    "    answer_d=1-(bionomial_distribution(5,n,p)+bionomial_distribution(6,n,p))\n",
    "    print(f\"answer = {answer_d:.6f}\")\n",
    "    \n",
    "solve_2()"
   ]
  },
  {
   "cell_type": "markdown",
   "metadata": {},
   "source": [
    "## Question 3"
   ]
  },
  {
   "cell_type": "markdown",
   "metadata": {},
   "source": [
    "In a study of drug-induced anaphylaxis among patients taking rocuronium bromide\n",
    "as part of their anesthesia, the occurrence of anaphylaxis followed a Poisson\n",
    "distribution with λ =12 incidents per year in Norway. Find the probability that in the\n",
    "next year, among patients receiving rocuronium.\n",
    "a. Exactly three will experience anaphylaxis.\n",
    "b. At least two will experience anaphylaxis\n",
    "c. At most two-experience anaphylaxis\n"
   ]
  },
  {
   "cell_type": "code",
   "execution_count": 13,
   "metadata": {},
   "outputs": [
    {
     "name": "stdout",
     "output_type": "stream",
     "text": [
      "a. Exactly three will experience anaphylaxis.\n",
      "answer = 0.001770\n",
      "b. At least two will experience anaphylaxis.\n",
      "answer = 0.999920\n",
      "c. At most two-experience anaphylaxis.\n",
      "answer = 0.000522\n"
     ]
    }
   ],
   "source": [
    "def poisson_distribution(lamda,k):\n",
    "    factorials=factorial(k)\n",
    "    return (np.exp(-lamda)* (lamda**k))/ factorials[k]\n",
    "\n",
    "def solve_3():\n",
    "    lamda=12\n",
    "    print(\"a. Exactly three will experience anaphylaxis.\")\n",
    "    answer_a=poisson_distribution(lamda,3)\n",
    "    print(f\"answer = {answer_a:.6f}\")\n",
    "    print(\"b. At least two will experience anaphylaxis.\")\n",
    "    answer_b=1-(poisson_distribution(lamda,0)+poisson_distribution(lamda,1))\n",
    "    print(f\"answer = {answer_b:.6f}\")\n",
    "    print(\"c. At most two-experience anaphylaxis.\")\n",
    "    answer_c=poisson_distribution(lamda,0)+poisson_distribution(lamda,1)+poisson_distribution(lamda,2)\n",
    "    print(f\"answer = {answer_c:.6f}\")\n",
    "    \n",
    "solve_3()"
   ]
  },
  {
   "cell_type": "markdown",
   "metadata": {},
   "source": [
    "## Question 4"
   ]
  },
  {
   "cell_type": "markdown",
   "metadata": {},
   "source": [
    "Suppose mean height of 500 students is 160 cm and SD is 5 cm. If height follows\n",
    "normal distribution, then calculate the following:\n",
    "Note: to get z-score table value you can use: norm.cdf() method. To do so, just\n",
    "import as – “from scipy.stats import norm”\n",
    "a. What is the chance of height above 168 cm?\n",
    "b. What percentage of students will have height above 168 cm?\n",
    "c. How many of students will have height between 150 cm to 175cm?"
   ]
  },
  {
   "cell_type": "code",
   "execution_count": null,
   "metadata": {},
   "outputs": [
    {
     "name": "stdout",
     "output_type": "stream",
     "text": [
      "a. What is the chance of height above 168 cm?\n",
      "answer = 0.0548\n",
      "b. What percentage of students will have height above 168 cm? \n",
      "answer = 5.480%\n",
      "c. How many of students will have height between 150 cm to 175 cm?\n",
      "answer = 488\n"
     ]
    }
   ],
   "source": [
    "from scipy.stats import norm\n",
    "\n",
    "def z_score(x,mean,sd):\n",
    "    return (x-mean)/sd\n",
    "\n",
    "def solve_4():\n",
    "    mean_height=160\n",
    "    sd_height=5\n",
    "    total_students=500\n",
    "    print(\"a. What is the chance of height above 168 cm?\")\n",
    "    z_score_a=z_score(168,mean_height,sd_height)\n",
    "    probability_height_above_168=1-norm.cdf(z_score_a)\n",
    "    print(f\"answer = {probability_height_above_168:.4f}\")\n",
    "    print(\"b. What percentage of students will have height above 168 cm? \")\n",
    "    percent_height_above_168=probability_height_above_168*100\n",
    "    print(f\"answer = {percent_height_above_168:.3f}%\")\n",
    "    print(\"c. How many of students will have height between 150 cm to 175 cm?\")\n",
    "    z_score_150=z_score(150,mean_height,sd_height)\n",
    "    z_score_175=z_score(175,mean_height,sd_height)\n",
    "    students_with_height_between_150_to_175=norm.cdf(z_score_175)-norm.cdf(z_score_150)\n",
    "    number_of_students_with_height_between_150_to_175=students_with_height_between_150_to_175*total_students\n",
    "    print(f\"answer = {number_of_students_with_height_between_150_to_175:.0f}\")\n",
    "\n",
    "solve_4()"
   ]
  },
  {
   "cell_type": "code",
   "execution_count": 15,
   "metadata": {},
   "outputs": [
    {
     "name": "stdout",
     "output_type": "stream",
     "text": [
      "Question 1: \n",
      "Rolling a dice once: \n",
      "Answer = 5\n",
      "10000 random rolls: \n",
      "Answer = [5 4 4 ... 3 6 3]\n",
      "Plotting the probability mass function: \n",
      "            probability\n",
      "dice_value             \n",
      "1                0.1585\n",
      "2                0.1624\n",
      "3                0.1700\n",
      "4                0.1668\n",
      "5                0.1705\n",
      "6                0.1718\n"
     ]
    },
    {
     "data": {
      "image/png": "[encoded data removed]",
      "text/plain": [
       "<Figure size 640x480 with 1 Axes>"
      ]
     },
     "metadata": {},
     "output_type": "display_data"
    },
    {
     "name": "stdout",
     "output_type": "stream",
     "text": [
      "\n",
      "Question 2: \n",
      "a. What is the probability of getting exactly three correct answers?\n",
      "answer = 0.185220\n",
      "b. What is the probability of getting at least two correct answers?\n",
      " answer = 0.579825\n",
      "c. What is the probability of getting at most two correct answers?\n",
      "answer = 0.744310\n",
      "d. What is the probability of getting less than five correct answers?\n",
      "answer = 0.989065\n",
      "\n",
      "Question 3: \n",
      "a. Exactly three will experience anaphylaxis.\n",
      "answer = 0.001770\n",
      "b. At least two will experience anaphylaxis.\n",
      "answer = 0.999920\n",
      "c. At most two-experience anaphylaxis.\n",
      "answer = 0.000522\n",
      "\n",
      "Question 4: \n",
      "a. What is the chance of height above 168 cm?\n",
      "answer = 0.0548\n",
      "b. What percentage of students will have height above 168 cm? \n",
      "answer = 5.480%\n",
      "c. How many of students will have height between 150 cm to 175 cm?\n",
      "answer = 488\n"
     ]
    }
   ],
   "source": [
    "if __name__ == \"__main__\":\n",
    "    print(\"Question 1: \")\n",
    "    solve_1()\n",
    "    print(\"\\nQuestion 2: \")\n",
    "    solve_2()\n",
    "    print(\"\\nQuestion 3: \")\n",
    "    solve_3()\n",
    "    print(\"\\nQuestion 4: \")\n",
    "    solve_4()"
   ]
  },
  {
   "cell_type": "markdown",
   "metadata": {},
   "source": [
    "# Question 5\n"
   ]
  },
  {
   "cell_type": "markdown",
   "metadata": {},
   "source": [
    "## Prepare a document on how to calculate p-value to test hypothesis.\n",
    "\n",
    "---\n",
    "\n",
    "## **What is a p-value?**\n",
    "\n",
    "The **p-value** is a statistical measure that helps us decide whether to reject the null hypothesis ($H_0$). They measure the compatibility of the observed data with the null hypothesis, assuming it is true.\n",
    "\n",
    "\n",
    "- A **small p-value** ($p < \\alpha$) suggests strong evidence against $H_0$.\n",
    "- A **large p-value** ($p \\geq \\alpha$) indicates weak evidence against $H_0$.\n",
    "\n",
    "---\n",
    "\n",
    "## **Steps to Calculate the p-value**\n",
    "\n",
    "### **Step 1: State the Hypotheses**\n",
    "Clearly define:  \n",
    "- **Null Hypothesis ($H_0$)**: The assumption or claim to test.  \n",
    "- **Alternative Hypothesis ($H_a$)**: The claim contradicting $H_0$.\n",
    "\n",
    "Example:  \n",
    "- $H_0: \\mu = \\text{population mean}$.  \n",
    "- $H_a: \\mu \\neq \\text{population mean}$ (two-tailed test).  \n",
    "\n",
    "---\n",
    "\n",
    "### **Step 2: Identify the Test and Gather Data**\n",
    "\n",
    "- Decide whether to use a **z-test** or a **t-test**:\n",
    "  - Use **z-test** when population standard deviation ($\\sigma$) is known or sample size $n \\geq 30$.  \n",
    "  - Use **t-test** when $\\sigma$ is unknown and $n < 30$.  \n",
    "\n",
    "- Gather key values:\n",
    "  - $\\mu$: Population mean.  \n",
    "  - $\\bar{x}$: Sample mean.  \n",
    "  - $\\sigma$ or $s$: Standard deviation.  \n",
    "  - $n$: Sample size.  \n",
    "  - $\\alpha$: Significance level.\n",
    "\n",
    "---\n",
    "\n",
    "### **Step 3: Calculate the Test Statistic**\n",
    "\n",
    "Compute the z-value or t-value using appropriate formulas:  \n",
    "\n",
    "1. **z-Test Formula** (for known $\\sigma$):  \n",
    "$$\n",
    "z = \\frac{\\bar{x} - \\mu}{\\sigma / \\sqrt{n}}\n",
    "$$\n",
    "\n",
    "2. **t-Test Formula** (for unknown $\\sigma$):  \n",
    "$$\n",
    "t = \\frac{\\bar{x} - \\mu}{s / \\sqrt{n}}\n",
    "$$\n",
    "\n",
    "Where:  \n",
    "- $\\bar{x}$: Sample mean.  \n",
    "- $\\mu$: Population mean.  \n",
    "- $\\sigma$: Population standard deviation (if known).  \n",
    "- $s$: Sample standard deviation (if $\\sigma$ unknown).  \n",
    "- $n$: Sample size.\n",
    "\n",
    "---\n",
    "\n",
    "### **Step 4: Determine the Critical Values**\n",
    "\n",
    "- For a **two-tailed test**, divide $\\alpha$ equally between both tails: $\\alpha/2$.  \n",
    "- Use a z-table (or t-table for t-tests) to find the critical value corresponding to $1 - \\alpha/2$.  \n",
    "  - Example: For $\\alpha = 0.05$, $1 - \\alpha/2 = 0.975$.\n",
    "\n",
    "---\n",
    "\n",
    "### **Step 5: Find the p-value**\n",
    "\n",
    "- **For z-test:**  \n",
    "  - Use the z-value to find the cumulative probability from a z-table.  \n",
    "  - For a two-tailed test, multiply the one-tailed p-value by 2.  \n",
    "\n",
    "- **For t-test:**  \n",
    "  - Use the degrees of freedom ($df = n - 1$) and the t-value to find the probability from a t-table.  \n",
    "  - Multiply by 2 for a two-tailed test.  \n",
    "\n",
    "---\n",
    "\n",
    "### **Step 6: Compare p-value with $\\alpha$**\n",
    " \n",
    "One important part of hypothesis testing is understanding how to determine if there is enough evidence to support your claim. There are two possible outcomes of hypothesis testing:\n",
    "\n",
    "#### 1. Reject the Null Hypothesis\n",
    "- **Determine that there is sufficient evidence to suggest that the alternative hypothesis is true.**\n",
    "  - Condition: $p < \\alpha $\n",
    "  - Condition: $ \\text{Test statistic} > \\text{critical value} $\n",
    "\n",
    "#### 2. Fail to Reject the Null Hypothesis\n",
    "- **Determine that there is not sufficient evidence to suggest the alternative hypothesis is true.**\n",
    "  - Condition: $ p \\geq \\alpha $\n",
    "  - Condition: $ \\text{Test statistic} < \\text{critical value} $\n",
    "\n",
    "To illustrate further we can look into this diagram: \n",
    "![Decision Rule](Decision_Rule.jpg)\n",
    "\n",
    "---\n",
    "\n",
    "### **Step 7: Interpret the Results**\n",
    "Summarize the outcome in the context of the problem.\n",
    "\n",
    "**Note:** P-values indicate statistical significance but do not measure clinical significance. A small p-value may arise from large sample sizes even for trivial effects, while larger effects may not reach statistical significance in small samples.\n",
    "\n",
    "**Note Again:** When it comes to statistics, nothing is certain. Rejecting the null hypothesis does not “prove” our claim to be true, it simply provides evidence that suggests that it could be. Similarly, failing to reject the null does not “prove” that the null is true, the data simply just did not provide enough evidence to suggest the alternative is true.\n",
    "\n",
    "\n",
    "\n",
    "---\n",
    "\n",
    "## **Solved Example:**\n",
    "\n",
    "### **Problem**\n",
    "The population mean ($\\mu$) is 72 with a population standard deviation ($\\sigma$) of 4. A sample of 36 observations yields a sample mean ($\\bar{x}$) of 74. At a 95% confidence level ($\\alpha = 0.05$), is there enough evidence to support the null hypothesis ($H_0: \\mu = 72$)?\n",
    "\n",
    "---\n",
    "\n",
    "### **Solution**\n",
    "\n",
    "#### **Step 1: State the Hypotheses**  \n",
    "- Null Hypothesis ($H_0$): $\\mu = 72$.  \n",
    "- Alternative Hypothesis ($H_a$): $\\mu \\neq 72$ (two-tailed test).  \n",
    "\n",
    "---\n",
    "\n",
    "#### **Step 2: Gather Data**  \n",
    "- Population mean ($\\mu = 72$).  \n",
    "- Population standard deviation ($\\sigma = 4$).  \n",
    "- Sample mean ($\\bar{x} = 74$).  \n",
    "- Sample size ($n = 36$).  \n",
    "- Significance level ($\\alpha = 0.05$).  \n",
    "\n",
    "---\n",
    "\n",
    "#### **Step 3: Calculate the Test Statistic**  \n",
    "The z-value is calculated as:  \n",
    "$$\n",
    "z = \\frac{\\bar{x} - \\mu}{\\sigma / \\sqrt{n}}\n",
    "$$  \n",
    "Substituting the values:  \n",
    "$$\n",
    "z = \\frac{74 - 72}{4 / \\sqrt{36}} = \\frac{2}{4 / 6} = \\frac{2}{0.6667} \\approx 3.00\n",
    "$$\n",
    "\n",
    "---\n",
    "\n",
    "#### **Step 4: Determine the Critical Values**  \n",
    "For $\\alpha = 0.05$ (two-tailed):  \n",
    "- Divide $\\alpha$ equally: $\\alpha/2 = 0.025$.  \n",
    "- Find the z-value corresponding to $1 - \\alpha/2 = 0.975$ from the z-table:  \n",
    "$$\n",
    "z_{critical} = \\pm 1.96\n",
    "$$  \n",
    "The critical region lies outside $[-1.96, 1.96]$.\n",
    "\n",
    "---\n",
    "\n",
    "#### **Step 5: Find the p-value**  \n",
    "From the z-table:  \n",
    "- Cumulative probability for $z = 3.00$: $P(z \\leq 3.00) = 0.9987$.  \n",
    "- One-tailed p-value:  \n",
    "$$\n",
    "p_{one-tail} = 1 - 0.9987 = 0.0013\n",
    "$$  \n",
    "- Two-tailed p-value:  \n",
    "$$\n",
    "p_{two-tail} = 2 \\times 0.0013 = 0.0026\n",
    "$$\n",
    "\n",
    "---\n",
    "\n",
    "#### **Step 6: Compare p-value with $\\alpha$**  \n",
    "- $p = 0.0026$, which is less than $\\alpha = 0.05$.  \n",
    "Thus, we reject the null hypothesis.\n",
    "\n",
    "---\n",
    "\n",
    "#### **Step 7: Interpret the Results**  \n",
    "At a 95% confidence level, the sample mean of 74 provides strong evidence to reject the null hypothesis. The population mean is not 72.\n"
   ]
  }
 ],
 "metadata": {
  "kernelspec": {
   "display_name": "env",
   "language": "python",
   "name": "python3"
  },
  "language_info": {
   "codemirror_mode": {
    "name": "ipython",
    "version": 3
   },
   "file_extension": ".py",
   "mimetype": "text/x-python",
   "name": "python",
   "nbconvert_exporter": "python",
   "pygments_lexer": "ipython3",
   "version": "3.12.4"
  }
 },
 "nbformat": 4,
 "nbformat_minor": 2
}
